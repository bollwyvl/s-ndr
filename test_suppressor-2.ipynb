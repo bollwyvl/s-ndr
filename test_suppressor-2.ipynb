{
 "cells": [
  {
   "cell_type": "markdown",
   "metadata": {},
   "source": [
    "# Simple Test Case for Suppressor\n",
    "\n",
    "The equations can be simplified to\n",
    "\n",
    "$c_{s,xx} = 0$\n",
    "\n",
    "$-c_{s,x} = c_s \\left( 1 - \\theta \\right)$\n",
    "\n",
    "$\\dot{\\theta} = c_s \\left( 1 - \\theta \\right) - \\left(j_0 \\left(1 - \\theta\\right) + j_1 \\theta \\right) \\theta$\n",
    "\n",
    "if we assume that a lot of the parameters 1. We have a single parameter $v$. The solution to this is\n",
    "\n",
    "$ c = \\frac{1}{2 - \\theta}$\n",
    "\n",
    "and\n",
    "\n",
    "$0 = \\theta^3 \\left[j_0 - j_1\\right] + \\theta^2 \\left[2 j_1 - 3 j_0\\right] + \\theta \\left[ 2 j_0 + 1\\right] - 1$"
   ]
  },
  {
   "cell_type": "code",
   "execution_count": 1,
   "metadata": {},
   "outputs": [
    {
     "name": "stderr",
     "output_type": "stream",
     "text": [
      "/nix/store/4gdlx10xifwpphnblbafh7fliyxnb3a8-python3.6-fipy-3.1.3.dev256+g43bbbd65/lib/python3.6/site-packages/fipy/solvers/scipy/linearLUSolver.py:83: RuntimeWarning: invalid value encountered in double_scalars\n",
      "  if (numerix.sqrt(numerix.sum(errorVector**2)) / error0)  <= self.tolerance:\n"
     ]
    }
   ],
   "source": [
    "# NBVAL_IGNORE_OUTPUT\n",
    "\n",
    "from main import run, eta_func, calc_eta\n",
    "from toolz.curried import pipe, do\n",
    "from scipy import roots\n",
    "from toolz_ import rcompose\n",
    "import numpy as np\n",
    "\n",
    "\n",
    "def get_params():\n",
    "    return dict(\n",
    "        diff_sup=1.0,\n",
    "        sup_inf=1.0,\n",
    "        delta=1.0,\n",
    "        k_plus=1.0,\n",
    "        k_minus=1.0,\n",
    "        gamma=1.0,\n",
    "        dt=1e+10,\n",
    "        nx=1000,\n",
    "        max_steps=1,\n",
    "        max_sweeps=15,\n",
    "        v0=1.0,\n",
    "        vm=0.0,\n",
    "        output=False,\n",
    "        alpha=0.4,\n",
    "        F=96485.332,\n",
    "        R=8.314,\n",
    "        T=270.0,\n",
    "        theta_ini=0.0,\n",
    "        sup_ini=0.0,\n",
    "        tf=1.,\n",
    "        n=2,\n",
    "        cupric_ini=0.0,\n",
    "        cupric_inf=1.0,\n",
    "        diff_cupric=1.0,\n",
    "        omega=1e+10\n",
    "    )\n",
    "\n",
    "    \n",
    "def jj(params):\n",
    "    return 1. / eta_func(params, params['v0']) \n",
    "\n",
    "\n",
    "def update_params(j0, j1):\n",
    "    return pipe(\n",
    "        get_params(),\n",
    "        lambda x: dict(x, j0=jj(x) * j0, j1=jj(x) * j1)\n",
    "    )\n",
    "\n",
    "\n",
    "def answer(j0, j1):\n",
    "    return pipe(\n",
    "        min(roots([\n",
    "            j0 - j1,\n",
    "            2 * j1 - 3 * j0,\n",
    "            2 * j0 + 1,\n",
    "            -1\n",
    "        ])),\n",
    "        lambda x: (1 / (2 - x), x)\n",
    "    )\n",
    "\n",
    "\n",
    "def predict(j0, j1):\n",
    "    return pipe(\n",
    "        update_params(j0, j1),\n",
    "        run,\n",
    "        lambda x: (x['sup'][0], x['theta']['new'])\n",
    "    )\n",
    "\n",
    "\n",
    "def check(j0, j1):\n",
    "    return np.allclose(answer(j0, j1), predict(j0, j1), rtol=1e-3)\n",
    "\n",
    "\n",
    "assert check(1, 1)\n",
    "assert check(5, 1)\n",
    "assert check(100, 1)"
   ]
  },
  {
   "cell_type": "code",
   "execution_count": null,
   "metadata": {},
   "outputs": [],
   "source": []
  }
 ],
 "metadata": {
  "kernelspec": {
   "display_name": "Python 3",
   "language": "python",
   "name": "python3"
  },
  "language_info": {
   "codemirror_mode": {
    "name": "ipython",
    "version": 3
   },
   "file_extension": ".py",
   "mimetype": "text/x-python",
   "name": "python",
   "nbconvert_exporter": "python",
   "pygments_lexer": "ipython3",
   "version": "3.6.5"
  }
 },
 "nbformat": 4,
 "nbformat_minor": 2
}
