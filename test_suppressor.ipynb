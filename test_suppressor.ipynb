{
 "cells": [
  {
   "cell_type": "markdown",
   "metadata": {},
   "source": [
    "# Simple Test Case for Suppressor\n",
    "\n",
    "The equations can be simplified to\n",
    "\n",
    "$c_{s,xx} = 0$\n",
    "\n",
    "$-c_{s,x} = c_s \\left( 1 - \\theta \\right)$\n",
    "\n",
    "$\\dot{\\theta} = c_s \\left( 1 - \\theta \\right) - v \\theta$\n",
    "\n",
    "if we assume that a lot of the parameters 1. We have a single parameter $v$. The solution to this is\n",
    "\n",
    "$ c^2 + c \\left( 2 v - 1 \\right) -v = 0$\n",
    "\n",
    "and\n",
    "\n",
    "$\\theta = \\frac{c}{v + c}$"
   ]
  },
  {
   "cell_type": "code",
   "execution_count": 1,
   "metadata": {},
   "outputs": [],
   "source": [
    "from main import run, get_params\n",
    "from toolz import pipe\n",
    "from scipy import roots\n",
    "from toolz_ import rcompose\n",
    "import numpy as np\n",
    "\n",
    "\n",
    "def get_params_(vel):\n",
    "    return dict(\n",
    "        get_params(),\n",
    "        diff_sup=1.0,\n",
    "        sup_inf=1.0,\n",
    "        delta=1.0,\n",
    "        k_plus=1.0,\n",
    "        k_minus=1.0,\n",
    "        vel=vel,\n",
    "        gamma=1.0,\n",
    "        dt=1e+10,\n",
    "        nx=1000,\n",
    "        max_steps=1,\n",
    "        max_sweeps=15,\n",
    "        output=False\n",
    "    )\n",
    "\n",
    "\n",
    "def answer(vel):\n",
    "    return pipe(\n",
    "        max(roots([1, 2 * vel - 1, -vel])),\n",
    "        lambda x: (x, x / (x + vel))\n",
    "    )\n",
    "\n",
    "\n",
    "predict = rcompose(\n",
    "    get_params_,\n",
    "    run,\n",
    "    lambda x: (x['sup'][0], x['theta']['new'])\n",
    ")\n",
    "\n",
    "\n",
    "def check(vel):\n",
    "    return np.allclose(answer(vel), predict(vel), rtol=1e-3)\n",
    "\n",
    "\n",
    "assert check(0.1)\n",
    "assert check(0.5)\n",
    "assert check(0.25)\n",
    "assert check(0.75)\n",
    "assert check(100.0)\n"
   ]
  },
  {
   "cell_type": "code",
   "execution_count": null,
   "metadata": {},
   "outputs": [],
   "source": []
  }
 ],
 "metadata": {
  "kernelspec": {
   "display_name": "Python 3",
   "language": "python",
   "name": "python3"
  },
  "language_info": {
   "codemirror_mode": {
    "name": "ipython",
    "version": 3
   },
   "file_extension": ".py",
   "mimetype": "text/x-python",
   "name": "python",
   "nbconvert_exporter": "python",
   "pygments_lexer": "ipython3",
   "version": "3.6.4"
  }
 },
 "nbformat": 4,
 "nbformat_minor": 2
}
