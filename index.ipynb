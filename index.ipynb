{
 "cells": [
  {
   "cell_type": "code",
   "execution_count": 37,
   "metadata": {},
   "outputs": [],
   "source": [
    "import fipy\n",
    "from toolz.curried import curry, compose, do, memoize\n",
    "import numpy as np\n",
    "\n",
    "def compose(*args):\n",
    "    fcompose(*args[::-1])\n"
   ]
  },
  {
   "cell_type": "code",
   "execution_count": 42,
   "metadata": {},
   "outputs": [
    {
     "name": "stdout",
     "output_type": "stream",
     "text": [
      "2\n",
      "1\n"
     ]
    }
   ],
   "source": [
    "for i in reversed((1, 2)):\n",
    "    print(i)"
   ]
  },
  {
   "cell_type": "code",
   "execution_count": 17,
   "metadata": {},
   "outputs": [
    {
     "ename": "NameError",
     "evalue": "name 'fcompose' is not defined",
     "output_type": "error",
     "traceback": [
      "\u001b[0;31m---------------------------------------------------------------------------\u001b[0m",
      "\u001b[0;31mNameError\u001b[0m                                 Traceback (most recent call last)",
      "\u001b[0;32m<ipython-input-17-d4e2765455dd>\u001b[0m in \u001b[0;36m<module>\u001b[0;34m()\u001b[0m\n\u001b[1;32m      3\u001b[0m \u001b[0;34m\u001b[0m\u001b[0m\n\u001b[1;32m      4\u001b[0m \u001b[0;34m\u001b[0m\u001b[0m\n\u001b[0;32m----> 5\u001b[0;31m get_mask = fcompose(\n\u001b[0m\u001b[1;32m      6\u001b[0m     \u001b[0mfipy\u001b[0m\u001b[0;34m.\u001b[0m\u001b[0mCellVariable\u001b[0m\u001b[0;34m(\u001b[0m\u001b[0mmesh\u001b[0m\u001b[0;34m=\u001b[0m\u001b[0mmesh\u001b[0m\u001b[0;34m)\u001b[0m\u001b[0;34m,\u001b[0m\u001b[0;34m\u001b[0m\u001b[0m\n\u001b[1;32m      7\u001b[0m     \u001b[0mdo\u001b[0m\u001b[0;34m(\u001b[0m\u001b[0;32mlambda\u001b[0m \u001b[0mx\u001b[0m\u001b[0;34m:\u001b[0m \u001b[0mx\u001b[0m\u001b[0;34m.\u001b[0m\u001b[0msetValue\u001b[0m\u001b[0;34m(\u001b[0m\u001b[0;36m1\u001b[0m\u001b[0;34m,\u001b[0m \u001b[0mwhere\u001b[0m\u001b[0;34m=\u001b[0m\u001b[0mx\u001b[0m\u001b[0;34m.\u001b[0m\u001b[0mmesh\u001b[0m\u001b[0;34m.\u001b[0m\u001b[0mx\u001b[0m \u001b[0;34m>\u001b[0m \u001b[0;34m(\u001b[0m\u001b[0mx\u001b[0m\u001b[0;34m.\u001b[0m\u001b[0mmesh\u001b[0m\u001b[0;34m.\u001b[0m\u001b[0mLx\u001b[0m \u001b[0;34m-\u001b[0m \u001b[0mx\u001b[0m\u001b[0;34m.\u001b[0m\u001b[0mmesh\u001b[0m\u001b[0;34m.\u001b[0m\u001b[0mdx\u001b[0m \u001b[0;34m/\u001b[0m \u001b[0;36m2\u001b[0m\u001b[0;34m)\u001b[0m\u001b[0;34m)\u001b[0m\u001b[0;34m)\u001b[0m\u001b[0;34m\u001b[0m\u001b[0m\n",
      "\u001b[0;31mNameError\u001b[0m: name 'fcompose' is not defined"
     ]
    }
   ],
   "source": [
    "@memoize\n",
    "def get_mesh(params):\n",
    "    return fipy.Grid1D(nx=params['nx'], Lx=params['delta'])\n",
    "\n",
    "\n",
    "get_mask = fcompose(\n",
    "    fipy.CellVariable(mesh=mesh),\n",
    "    do(lambda x: x.setValue(1, where=x.mesh.x > (x.mesh.Lx - x.mesh.dx / 2)))\n",
    ")\n",
    "\n",
    "\n",
    "def get_inf(var):\n",
    "    return np.array(var[-1])\n",
    "\n",
    "\n",
    "@curry\n",
    "def update_theta(params, supp, theta):\n",
    "    def expression1():\n",
    "        return (theta['old'] + params['dt'] * params['k_plus'] * get_inf(supp))\n",
    "    \n",
    "    def expression2():\n",
    "        return params['k_plus'] * get_inf(supp) + params['k_minus'] * params['vel']\n",
    "    \n",
    "    def new_value():\n",
    "        return expression1() / (1 + params['dt'] * expression2())\n",
    "                         \n",
    "    return (dict(new=new_value(),\n",
    "                 old=theta['old']),\n",
    "            abs(new_value() - theta['new']))                     \n",
    "            \n",
    "@curry\n",
    "def update_theta_old(theta):\n",
    "    return dict(new=var['old'], old=var['old'])\n",
    "\n",
    "    \n",
    "@curry\n",
    "def update_sup(eqn, params, supp, theta):\n",
    "                    \n",
    "    res = eqn(theta).sweep(supp, dt=params['dt'])\n",
    "    return (supp, res)\n",
    "\n",
    "\n",
    "@curry\n",
    "def update_sup_old(supp):\n",
    "    var.update_old()\n",
    "    return var\n",
    "\n",
    "\n",
    "@memoize\n",
    "def get_eqn_f(params, mesh):\n",
    "    flux = fipy.CellVariable(mesh, value=0.)\n",
    "    eqn = TransientTerm() == DiffusionTerm(params['diff_sup']) + \\\n",
    "        fipy.ImplicitSourceTerm(flux * get_mask(mesh) / mesh.dx)\n",
    "    def func(theta)\n",
    "        flux.setValue(-params['gamma'] * params['k_plus'] * (1 - theta))\n",
    "        return eqn\n",
    "    return func\n",
    "    \n",
    "\n",
    "@curry\n",
    "def get_eqn(params, mesh, theta):\n",
    "    get_eqn_f(params, mesh)(theta)\n",
    "    \n",
    "    \n",
    "    \n",
    "def get_system(params):\n",
    "    return dict(\n",
    "        vars_=dict(\n",
    "            theta=dict(new=params['theta_ini'], old=params['theta_ini']),\n",
    "            supp=fipy.CellVariable(get_mesh(params), name='sup', value=params['sup_ini'])),\n",
    "        update=dict(\n",
    "            theta=update_theta(params),\n",
    "            supp=update_supp(get_eqn(mesh, params), params)),\n",
    "        update_old=dict(\n",
    "            theta=update_theta_old,\n",
    "            supp=update_sup_old\n",
    "        )\n",
    "        \n",
    "\n",
    "            \n",
    "                                    \n",
    "                                \n",
    "                                    \n",
    "    \n"
   ]
  },
  {
   "cell_type": "code",
   "execution_count": null,
   "metadata": {},
   "outputs": [],
   "source": [
    "@curry\n",
    "def iterate_(func, times, value):\n",
    "    \"\"\"Use toolz iterate function to actually iterate\n",
    "    rather than return an iterator object\n",
    "    \"\"\"\n",
    "    iter_ = iterate(func, value)\n",
    "    for _ in range(times):\n",
    "        next(iter_)\n",
    "    return next(iter_)"
   ]
  },
  {
   "cell_type": "code",
   "execution_count": 36,
   "metadata": {},
   "outputs": [
    {
     "name": "stdout",
     "output_type": "stream",
     "text": [
      "make_array\n",
      "[ 0  1  2  3  4  5  6  7  8  9 10 11 12 13 14 15 16 17 18 19 20 21 22 23\n",
      " 24 25 26 27 28 29 30 31 32 33 34 35 36 37 38 39 40 41 42 43 44 45 46 47\n",
      " 48 49 50 51 52 53 54 55 56 57 58 59 60 61 62 63 64 65 66 67 68 69 70 71\n",
      " 72 73 74 75 76 77 78 79 80 81 82 83 84 85 86 87 88 89 90 91 92 93 94 95\n",
      " 96 97 98  3]\n",
      "[ 0  1  2  3  4  5  6  7  8  9 10 11 12 13 14 15 16 17 18 19 20 21 22 23\n",
      " 24 25 26 27 28 29 30 31 32 33 34 35 36 37 38 39 40 41 42 43 44 45 46 47\n",
      " 48 49 50 51 52 53 54 55 56 57 58 59 60 61 62 63 64 65 66 67 68 69 70 71\n",
      " 72 73 74 75 76 77 78 79 80 81 82 83 84 85 86 87 88 89 90 91 92 93 94 95\n",
      " 96 97 98  3]\n"
     ]
    }
   ],
   "source": [
    "def make_array(l):\n",
    "    print('make_array')\n",
    "    return np.arange(l)\n",
    "\n",
    "@memoize\n",
    "def test():\n",
    "    arr = make_array(100)\n",
    "    def test_(value):\n",
    "        arr[-1] = value\n",
    "        return arr\n",
    "    return test_\n",
    "\n",
    "def new_array(value):\n",
    "    test__ = test()\n",
    "    return test__(value)\n",
    "    \n",
    "aa = new_array(4)\n",
    "bb = new_array(3)\n",
    "\n",
    "print(aa)\n",
    "print(bb)"
   ]
  },
  {
   "cell_type": "code",
   "execution_count": 34,
   "metadata": {},
   "outputs": [],
   "source": [
    "bb = test__(3)\n",
    "cc = test__(4)"
   ]
  },
  {
   "cell_type": "code",
   "execution_count": 29,
   "metadata": {},
   "outputs": [
    {
     "name": "stdout",
     "output_type": "stream",
     "text": [
      "[ 0  1  2  3  4  5  6  7  8  9 10 11 12 13 14 15 16 17 18 19 20 21 22 23\n",
      " 24 25 26 27 28 29 30 31 32 33 34 35 36 37 38 39 40 41 42 43 44 45 46 47\n",
      " 48 49 50 51 52 53 54 55 56 57 58 59 60 61 62 63 64 65 66 67 68 69 70 71\n",
      " 72 73 74 75 76 77 78 79 80 81 82 83 84 85 86 87 88 89 90 91 92 93 94 95\n",
      " 96 97 98  4]\n"
     ]
    }
   ],
   "source": [
    "print(bb)"
   ]
  },
  {
   "cell_type": "code",
   "execution_count": null,
   "metadata": {},
   "outputs": [],
   "source": []
  },
  {
   "cell_type": "code",
   "execution_count": null,
   "metadata": {},
   "outputs": [],
   "source": []
  },
  {
   "cell_type": "markdown",
   "metadata": {},
   "source": [
    "# Solving the S-NDR Equations in 1D\n",
    "\n",
    "The equations are,\n",
    "\n",
    "$$ \\partial_t C_i = D_i \\partial_x^2 C_i $$\n",
    "\n",
    "for $i=\\text{Cu},\\;\\text{sup}$ and\n",
    "\n",
    "$$ \\partial_t \\theta = k^+ c_{\\text{sup}} \\left( 1 - \\theta \\right) - k^- \\theta v $$\n",
    "\n",
    "where\n",
    "\n",
    "$$ v = j_0 \\left( 1 - \\theta \\right) + j_1 \\theta $$\n",
    "\n",
    "The current is given by,\n",
    "\n",
    "$$ j_k = j_k^{\\alpha} \\left[ \\exp \\left( \\bar{\\alpha} \\eta \\right) - \\exp \\left( \\left(1 - \\bar{\\alpha}\\right) \\eta \\right) \\right] \\frac{ c_{\\text{Cu}} } { c_{\\text{Cu}}^{\\infty} }$$\n",
    "\n",
    "for $k=0, 1$ and $\\bar{\\alpha} = \\frac{\\alpha n}{R T}$.\n",
    "\n",
    "## Initial Conditions\n",
    "\n",
    "$\\theta = 0$, $c_{\\text{Cu}} = 0$ and $c_{\\text{suppressor}} = 0$\n",
    "\n",
    "## Boundary Conditions\n",
    "\n",
    "$c_{\\text{Cu}} = c_{\\text{Cu}}^{\\infty}$ at the boundary layer\n",
    "\n",
    "$c_{\\text{sup}} = c_{\\text{sup}}^{\\infty}$ at the boundary layer\n",
    "\n",
    "$-D_{\\text{Cu}} \\partial_x c_{\\text{Cu}} = \\frac{v}{\\Omega}$ at the electrode\n",
    "\n",
    "$-D_{\\text{sup}} \\partial_x c_{\\text{sup}} = c_{\\text{sup}} k^+ \\Gamma \\left( 1 - \\theta \\right)$ at the electrode\n",
    "\n",
    "## Parameters\n",
    "\n"
   ]
  },
  {
   "cell_type": "markdown",
   "metadata": {},
   "source": [
    "|           Symbol           |                 Value (a) |\n",
    "|:--------------------------:|--------------------------:|\n",
    "|       $D_\\text{supp}$      |   $9.2\\;\\times\\;10^{-11}$ |\n",
    "|       $D_\\text{Cu}$        | $2.65\\;\\times\\;10^{-10}$  |\n",
    "| $c_{\\text{Cu}}^{\\infty}$   |                   240     |\n",
    "| $c_{\\text{sup}}^{\\infty}$  | 0.01                      |\n",
    "|       $\\delta$             |   $1\\;\\times\\;10^{-6}$    |\n",
    "|  $ \\Gamma  $                 |   $2.5\\;\\times\\;10^{-7}$  |\n",
    "| $k^+$                      |          2300             |\n",
    "| $k^-$                      |   $3.79\\;\\times\\;10^{7}$  |\n",
    "| $j_0^{\\alpha}$             |          20               |\n",
    "| $j_1^{\\alpha}$             |   $1\\;\\times\\;10^{-3}$    |\n",
    "| $\\alpha$                   |   0.4                     |\n",
    "| $n$                        |   2                       |\n",
    "| $\\Omega$                   |   $7.2\\;\\times\\;10^{-6}$  |\n",
    "| $F$                        |                           |\n",
    "| $V_0$ (initial potential)  | 0                         |\n",
    "| $V_s$ (switch)             | -0.325                    |\n",
    "| $V_mmp$ (ramp rate)        | 0.01                      |\n",
    "| Final time $t_f$           | 65                        |"
   ]
  }
 ],
 "metadata": {
  "kernelspec": {
   "display_name": "Python 3",
   "language": "python",
   "name": "python3"
  },
  "language_info": {
   "codemirror_mode": {
    "name": "ipython",
    "version": 3
   },
   "file_extension": ".py",
   "mimetype": "text/x-python",
   "name": "python",
   "nbconvert_exporter": "python",
   "pygments_lexer": "ipython3",
   "version": "3.6.4"
  }
 },
 "nbformat": 4,
 "nbformat_minor": 2
}
