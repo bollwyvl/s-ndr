{
 "cells": [
  {
   "cell_type": "markdown",
   "metadata": {},
   "source": [
    "# Solving the S-NDR Equations in 1D\n",
    "\n",
    "The equations are,\n",
    "\n",
    "$$ \\partial_t C_i = D_i \\partial_x^2 C_i $$\n",
    "\n",
    "for $i=\\text{Cu},\\;\\text{sup}$ and\n",
    "\n",
    "$$ \\partial_t \\theta = k^+ c_{\\text{sup}} \\left( 1 - \\theta \\right) - k^- \\theta v $$\n",
    "\n",
    "where\n",
    "\n",
    "$$ v = j_0 \\left( 1 - \\theta \\right) + j_1 \\theta $$\n",
    "\n",
    "The current is given by,\n",
    "\n",
    "$$ j_k = j_k^{\\alpha} \\left[ \\exp \\left( \\alpha \\bar{\\eta} \\right) - \\exp \\left( -\\left(1 - \\alpha \\right) \\bar{\\eta} \\right) \\right] \\frac{ c_{\\text{Cu}} } { c_{\\text{Cu}}^{\\infty} }$$\n",
    "\n",
    "for $k=0, 1$ and $\\bar{\\eta} = \\eta\\frac{n F}{R T}$.\n",
    "\n",
    "with\n",
    "\n",
    "$$\\eta = V_0 + V_{ramp} t$$\n",
    "\n",
    "when $t < \\frac{t_f}{2}$ and\n",
    "\n",
    "$$\\eta = V_0 + V_{ramp} \\left(t_f - t\\right)$$\n",
    "\n",
    "when $t > \\frac{t_f}{2}$ and\n",
    "\n",
    "## Initial Conditions\n",
    "\n",
    "$\\theta = 0$, $c_{\\text{Cu}} = 0$ and $c_{\\text{suppressor}} = 0$\n",
    "\n",
    "## Boundary Conditions\n",
    "\n",
    "$c_{\\text{Cu}} = c_{\\text{Cu}}^{\\infty}$ at the boundary layer\n",
    "\n",
    "$c_{\\text{sup}} = c_{\\text{sup}}^{\\infty}$ at the boundary layer\n",
    "\n",
    "$-D_{\\text{Cu}} \\partial_x c_{\\text{Cu}} = \\frac{v}{\\Omega}$ at the electrode\n",
    "\n",
    "$-D_{\\text{sup}} \\partial_x c_{\\text{sup}} = c_{\\text{sup}} k^+ \\Gamma \\left( 1 - \\theta \\right)$ at the electrode\n",
    "\n",
    "## Parameters\n",
    "\n"
   ]
  },
  {
   "cell_type": "markdown",
   "metadata": {},
   "source": [
    "|           Symbol           |                 Value (a) |\n",
    "|:--------------------------:|--------------------------:|\n",
    "|       $D_\\text{supp}$      |   $9.2\\;\\times\\;10^{-11}$ |\n",
    "|       $D_\\text{Cu}$        | $2.65\\;\\times\\;10^{-10}$  |\n",
    "| $c_{\\text{Cu}}^{\\infty}$   |                   240     |\n",
    "| $c_{\\text{sup}}^{\\infty}$  | 0.01                      |\n",
    "|       $\\delta$             |   $1\\;\\times\\;10^{-6}$    |\n",
    "|  $ \\Gamma  $                 |   $2.5\\;\\times\\;10^{-7}$  |\n",
    "| $k^+$                      |          2300             |\n",
    "| $k^-$                      |   $3.79\\;\\times\\;10^{7}$  |\n",
    "| $j_0^{\\alpha}$             |          20               |\n",
    "| $j_1^{\\alpha}$             |   $1\\;\\times\\;10^{-3}$    |\n",
    "| $\\alpha$                   |   0.4                     |\n",
    "| $n$                        |   2                       |\n",
    "| $\\Omega$                   |   $7.2\\;\\times\\;10^{-6}$  |\n",
    "| $F$                        |  96485.332                |\n",
    "| $V_0$ (initial potential)  | 0                         |\n",
    "| $V_s$ (switch)             | -0.325                    |\n",
    "| $V_{ramp}$ (ramp rate)        | 0.01                      |\n",
    "| Final time $t_f$           | 65                        |"
   ]
  },
  {
   "cell_type": "code",
   "execution_count": 4,
   "metadata": {},
   "outputs": [],
   "source": [
    "import matplotlib as mpl\n",
    "mpl.rcParams.update({'font.size': 22})\n",
    "mpl.rcParams['text.usetex'] = True\n",
    "mpl.rcParams['text.latex.preamble'] = [r'\\usepackage{amsmath}']\n",
    "import matplotlib.pyplot as plt\n",
    "from main import run, get_params\n",
    "import numpy as np\n",
    "from ipywidgets import interact_manual, IntSlider, FloatSlider, BoundedFloatText, interact\n",
    "from toolz.curried import pipe, curry"
   ]
  },
  {
   "cell_type": "code",
   "execution_count": 5,
   "metadata": {},
   "outputs": [],
   "source": [
    "@curry\n",
    "def plot_mpl(params, values):\n",
    "    x = np.array(values['sup'].mesh.x) / params['delta']\n",
    "    sup = np.array(values['sup']) / params['sup_inf']\n",
    "    cupric = np.array(values['cupric']) / params['cupric_inf']\n",
    "    plt.figure(figsize=(11, 8))\n",
    "    plt.plot(x, sup, label=r'$i=\\text{supp}$')\n",
    "    plt.plot(x, cupric, label=r'$i=\\text{cupric}$')\n",
    "    plt.ylim(-0.02, 1.02)\n",
    "    plt.xlabel(r'$x / \\delta$')\n",
    "    plt.ylabel(r'$c_i / c^{\\infty}_i$')\n",
    "    plt.legend()\n",
    "    plt.show()"
   ]
  },
  {
   "cell_type": "code",
   "execution_count": 6,
   "metadata": {},
   "outputs": [
    {
     "data": {
      "application/vnd.jupyter.widget-view+json": {
       "model_id": "9889a6e8222340f0be36dc26c493cf9a",
       "version_major": 2,
       "version_minor": 0
      },
      "text/html": [
       "<p>Failed to display Jupyter Widget of type <code>interactive</code>.</p>\n",
       "<p>\n",
       "  If you're reading this message in the Jupyter Notebook or JupyterLab Notebook, it may mean\n",
       "  that the widgets JavaScript is still loading. If this message persists, it\n",
       "  likely means that the widgets JavaScript library is either not installed or\n",
       "  not enabled. See the <a href=\"https://ipywidgets.readthedocs.io/en/stable/user_install.html\">Jupyter\n",
       "  Widgets Documentation</a> for setup instructions.\n",
       "</p>\n",
       "<p>\n",
       "  If you're reading this message in another frontend (for example, a static\n",
       "  rendering on GitHub or <a href=\"https://nbviewer.jupyter.org/\">NBViewer</a>),\n",
       "  it may mean that your frontend doesn't currently support widgets.\n",
       "</p>\n"
      ],
      "text/plain": [
       "interactive(children=(FloatSlider(value=0.1, description='dt', max=1.0, min=0.01, step=0.01), IntSlider(value=10, description='max_steps', min=1, step=10), IntSlider(value=5, description='max_sweeps', max=20, min=1), BoundedFloatText(value=2300.0, description='k_plus', max=10000000000.0, min=1.0, step=1.0), BoundedFloatText(value=37900000.0, description='k_minus', max=10000000000.0, min=1.0, step=1.0), Checkbox(value=False, description='output'), Button(description='Run Interact', style=ButtonStyle()), Output()), _dom_classes=('widget-interact',))"
      ]
     },
     "metadata": {},
     "output_type": "display_data"
    }
   ],
   "source": [
    "# NBVAL_IGNORE_OUTPUT\n",
    "\n",
    "@interact.options(manual=True)\n",
    "def run_plot(\n",
    "    dt=FloatSlider(value=0.1, min=0.01, max=1, step=0.01),\n",
    "    max_steps=IntSlider(min=1, max=100, step=10, value=10),\n",
    "    max_sweeps=IntSlider(min=1, max=20, step=1, value=5),\n",
    "    k_plus=BoundedFloatText(value=2300.0, min=1., max=1e+10, step=1),\n",
    "    k_minus=BoundedFloatText(value=3.79e+7, min=1., max=1e+10, step=1),            \n",
    "    output=False):\n",
    "    return pipe(\n",
    "        dict(\n",
    "            get_params(),\n",
    "            dt=dt,\n",
    "            max_steps=max_steps,\n",
    "            max_sweeps=max_sweeps,\n",
    "            k_plus=k_plus,\n",
    "            k_minus=k_minus,\n",
    "            output=output\n",
    "        ),\n",
    "        lambda x: plot_mpl(x, run(x))\n",
    "    )\n",
    "\n"
   ]
  },
  {
   "cell_type": "code",
   "execution_count": null,
   "metadata": {},
   "outputs": [],
   "source": []
  }
 ],
 "metadata": {
  "kernelspec": {
   "display_name": "Python 3",
   "language": "python",
   "name": "python3"
  },
  "language_info": {
   "codemirror_mode": {
    "name": "ipython",
    "version": 3
   },
   "file_extension": ".py",
   "mimetype": "text/x-python",
   "name": "python",
   "nbconvert_exporter": "python",
   "pygments_lexer": "ipython3",
   "version": "3.6.4"
  }
 },
 "nbformat": 4,
 "nbformat_minor": 2
}
