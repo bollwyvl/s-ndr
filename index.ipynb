{
 "cells": [
  {
   "cell_type": "code",
   "execution_count": 2,
   "metadata": {},
   "outputs": [
    {
     "ename": "ModuleNotFoundError",
     "evalue": "No module named 'toolz'",
     "output_type": "error",
     "traceback": [
      "\u001b[0;31m---------------------------------------------------------------------------\u001b[0m",
      "\u001b[0;31mModuleNotFoundError\u001b[0m                       Traceback (most recent call last)",
      "\u001b[0;32m<ipython-input-2-f7186af5f3e8>\u001b[0m in \u001b[0;36m<module>\u001b[0;34m()\u001b[0m\n\u001b[1;32m      1\u001b[0m \u001b[0;32mimport\u001b[0m \u001b[0mfipy\u001b[0m\u001b[0;34m\u001b[0m\u001b[0m\n\u001b[0;32m----> 2\u001b[0;31m \u001b[0;32mfrom\u001b[0m \u001b[0mtoolz\u001b[0m\u001b[0;34m.\u001b[0m\u001b[0mcurried\u001b[0m \u001b[0;32mimport\u001b[0m \u001b[0mcurry\u001b[0m\u001b[0;34m,\u001b[0m \u001b[0mfcompose\u001b[0m\u001b[0;34m\u001b[0m\u001b[0m\n\u001b[0m",
      "\u001b[0;31mModuleNotFoundError\u001b[0m: No module named 'toolz'"
     ]
    }
   ],
   "source": [
    "import fipy\n",
    "from toolz.curried import curry, fcompose"
   ]
  },
  {
   "cell_type": "code",
   "execution_count": 3,
   "metadata": {},
   "outputs": [
    {
     "ename": "SyntaxError",
     "evalue": "invalid syntax (<ipython-input-3-b00fc33731b3>, line 8)",
     "output_type": "error",
     "traceback": [
      "\u001b[0;36m  File \u001b[0;32m\"<ipython-input-3-b00fc33731b3>\"\u001b[0;36m, line \u001b[0;32m8\u001b[0m\n\u001b[0;31m    return mask\u001b[0m\n\u001b[0m         ^\u001b[0m\n\u001b[0;31mSyntaxError\u001b[0m\u001b[0;31m:\u001b[0m invalid syntax\n"
     ]
    }
   ],
   "source": [
    "def get_mesh(params):\n",
    "    return fipy.Grid1D(nx=params['nx'], Lx=params['delta'])\n",
    "\n",
    "\n",
    "def mask_right(mesh):\n",
    "    mask = fipy.CellVariable(mesh=mesh)\n",
    "    mask.setValue(1, where=mesh.x > (mesh.Lx - mesh.dx / 2)\n",
    "    return mask\n",
    "\n",
    "                  \n",
    "def get_vars(params):\n",
    "    return pipe(\n",
    "        get_mesh(params),\n",
    "        lambda x: dict(\n",
    "            sup=fipy.CellVariable(x.mesh, name='sup', value=params['sup_ini'])),\n",
    "            theta=dict('new' : 0.0, 'old' : 0.0),\n",
    "            flux=fipy.CellVariable(x.mesh, value=0.)\n",
    "        )\n",
    "    )\n",
    "\n",
    "\n",
    "def get_inf(var):\n",
    "    return np.array(var[-1])\n",
    "\n",
    "\n",
    "@curry\n",
    "def update_theta(params, var, vars_):\n",
    "    def num():\n",
    "        return (var['old'] + params['dt'] * params['k_plus'] * get_inf(vars_['supp']))\n",
    "    def denom():\n",
    "        return params['k_plus'] * get_inf(vars_['supp']) + params['k_minus'] * params['vel']\n",
    "    return dict(new=num() / (1 + params['dt'] * denum()),\n",
    "                old=var[1])\n",
    "\n",
    "\n",
    "@curry\n",
    "def update_theta_old(params, var, vars_):\n",
    "    return (var[0], var[0])\n",
    "                   \n",
    "\n",
    "@curry\n",
    "def update_flux(params, var, vars_):\n",
    "    var.setValue(-params['gamms'] * params['k_plus'] * (1 - vars_['theta']['theta'])) \n",
    "    return var\n",
    "               \n",
    "\n",
    "@curry\n",
    "def update_flux_old(params, var, vars_):\n",
    "    return update_flux(params, var, vars_)\n",
    "\n",
    "    \n",
    "@curry\n",
    "def update_sup(eqn, params, var, vars_):\n",
    "    eqn.sweep(var, dt=params['dt'])\n",
    "    return var\n",
    "\n",
    "\n",
    "@curry\n",
    "def update_sup_old(params, var, vars_):\n",
    "    var.update_old()\n",
    "    return var\n",
    "\n",
    "\n",
    "def get_eqn(flux, params):\n",
    "    return TransientTerm() == DiffusionTerm(params['diff_sup']) + \\\n",
    "        fipy.ImplicitSourceTerm(flux * get_mask(flux.mesh) / flux.mesh.dx)\n",
    "\n",
    "\n",
    "def get_system(params):\n",
    "    return pipe(\n",
    "        params,\n",
    "        get_vars,\n",
    "        lambda x: ((x['flux'], update_flux(params), update_flux_old(params)),\n",
    "                   (x['theta'], update_theta(params), update_theta_old(params)),\n",
    "                   (x['sup'], update_sup(get_eqn(x['flux']params), update_sup_old(params)))\n",
    "    )\n",
    "\n"
   ]
  },
  {
   "cell_type": "code",
   "execution_count": null,
   "metadata": {},
   "outputs": [],
   "source": []
  },
  {
   "cell_type": "code",
   "execution_count": null,
   "metadata": {},
   "outputs": [],
   "source": []
  },
  {
   "cell_type": "code",
   "execution_count": null,
   "metadata": {},
   "outputs": [],
   "source": []
  },
  {
   "cell_type": "code",
   "execution_count": null,
   "metadata": {},
   "outputs": [],
   "source": []
  },
  {
   "cell_type": "markdown",
   "metadata": {},
   "source": [
    "# Solving the S-NDR Equations in 1D\n",
    "\n",
    "The equations are,\n",
    "\n",
    "$$ \\partial_t C_i = D_i \\partial_x^2 C_i $$\n",
    "\n",
    "for $i=\\text{Cu},\\;\\text{sup}$ and\n",
    "\n",
    "$$ \\partial_t \\theta = k^+ c_{\\text{sup}} \\left( 1 - \\theta \\right) - k^- \\theta v $$\n",
    "\n",
    "where\n",
    "\n",
    "$$ v = j_0 \\left( 1 - \\theta \\right) + j_1 \\theta $$\n",
    "\n",
    "The current is given by,\n",
    "\n",
    "$$ j_k = j_k^{\\alpha} \\left[ \\exp \\left( \\bar{\\alpha} \\eta \\right) - \\exp \\left( \\left(1 - \\bar{\\alpha}\\right) \\eta \\right) \\right] \\frac{ c_{\\text{Cu}} } { c_{\\text{Cu}}^{\\infty} }$$\n",
    "\n",
    "for $k=0, 1$ and $\\bar{\\alpha} = \\frac{\\alpha n}{R T}$.\n",
    "\n",
    "## Initial Conditions\n",
    "\n",
    "$\\theta = 0$, $c_{\\text{Cu}} = 0$ and $c_{\\text{suppressor}} = 0$\n",
    "\n",
    "## Boundary Conditions\n",
    "\n",
    "$c_{\\text{Cu}} = c_{\\text{Cu}}^{\\infty}$ at the boundary layer\n",
    "\n",
    "$c_{\\text{sup}} = c_{\\text{sup}}^{\\infty}$ at the boundary layer\n",
    "\n",
    "$-D_{\\text{Cu}} \\partial_x c_{\\text{Cu}} = \\frac{v}{\\Omega}$ at the electrode\n",
    "\n",
    "$-D_{\\text{sup}} \\partial_x c_{\\text{sup}} = c_{\\text{sup}} k^+ \\Gamma \\left( 1 - \\theta \\right)$ at the electrode\n",
    "\n",
    "## Parameters\n",
    "\n"
   ]
  },
  {
   "cell_type": "markdown",
   "metadata": {},
   "source": [
    "|           Symbol           |                 Value (a) |\n",
    "|:--------------------------:|--------------------------:|\n",
    "|       $D_\\text{supp}$      |   $9.2\\;\\times\\;10^{-11}$ |\n",
    "|       $D_\\text{Cu}$        | $2.65\\;\\times\\;10^{-10}$  |\n",
    "| $c_{\\text{Cu}}^{\\infty}$   |                   240     |\n",
    "| $c_{\\text{sup}}^{\\infty}$  | 0.01                      |\n",
    "|       $\\delta$             |   $1\\;\\times\\;10^{-6}$    |\n",
    "|  $ \\Gamma  $                 |   $2.5\\;\\times\\;10^{-7}$  |\n",
    "| $k^+$                      |          2300             |\n",
    "| $k^-$                      |   $3.79\\;\\times\\;10^{7}$  |\n",
    "| $j_0^{\\alpha}$             |          20               |\n",
    "| $j_1^{\\alpha}$             |   $1\\;\\times\\;10^{-3}$    |\n",
    "| $\\alpha$                   |   0.4                     |\n",
    "| $n$                        |   2                       |\n",
    "| $\\Omega$                   |   $7.2\\;\\times\\;10^{-6}$  |\n",
    "| $F$                        |                           |\n",
    "| $V_0$ (initial potential)  | 0                         |\n",
    "| $V_s$ (switch)             | -0.325                    |\n",
    "| $V_mmp$ (ramp rate)        | 0.01                      |\n",
    "| Final time $t_f$           | 65                        |"
   ]
  }
 ],
 "metadata": {
  "kernelspec": {
   "display_name": "Python 3",
   "language": "python",
   "name": "python3"
  },
  "language_info": {
   "codemirror_mode": {
    "name": "ipython",
    "version": 3
   },
   "file_extension": ".py",
   "mimetype": "text/x-python",
   "name": "python",
   "nbconvert_exporter": "python",
   "pygments_lexer": "ipython3",
   "version": "3.6.4"
  }
 },
 "nbformat": 4,
 "nbformat_minor": 2
}
