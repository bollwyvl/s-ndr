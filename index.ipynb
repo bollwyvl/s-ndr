{
 "cells": [
  {
   "cell_type": "markdown",
   "metadata": {},
   "source": [
    "# Solving the S-NDR Equations in 1D\n",
    "\n",
    "The equations are,\n",
    "\n",
    "$$ \\partial_t C_i = D_i \\partial_x^2 C_i $$\n",
    "\n",
    "for $i=\\text{Cu},\\;\\text{sup}$ and\n",
    "\n",
    "$$ \\partial_t \\theta = k^+ c_{\\text{sup}} \\left( 1 - \\theta \\right) - k^- \\theta v $$\n",
    "\n",
    "where\n",
    "\n",
    "$$ v = j_0 \\left( 1 - \\theta \\right) + j_1 \\theta $$\n",
    "\n",
    "The current is given by,\n",
    "\n",
    "$$ j_k = j_k^{\\alpha} \\left[ \\exp \\left( \\bar{\\alpha} \\eta \\right) - \\exp \\left( \\left(1 - \\bar{\\alpha}\\right) \\eta \\right) \\right] \\frac{ c_{\\text{Cu}} } { c_{\\text{Cu}}^{\\infty} }$$\n",
    "\n",
    "for $k=0, 1$ and $\\bar{\\alpha} = \\frac{\\alpha n}{R T}$.\n",
    "\n",
    "## Initial Conditions\n",
    "\n",
    "$\\theta = 0$, $c_{\\text{Cu}} = 0$ and $c_{\\text{suppressor}} = 0$\n",
    "\n",
    "## Boundary Conditions\n",
    "\n",
    "$c_{\\text{Cu}} = c_{\\text{Cu}}^{\\infty}$ at the boundary layer\n",
    "\n",
    "$c_{\\text{sup}} = c_{\\text{sup}}^{\\infty}$ at the boundary layer\n",
    "\n",
    "$-D_{\\text{Cu}} \\partial_x c_{\\text{Cu}} = \\frac{v}{\\Omega}$ at the electrode\n",
    "\n",
    "$-D_{\\text{sup}} \\partial_x c_{\\text{sup}} = c_{\\text{sup}} k^+ \\Gamma \\left( 1 - \\theta \\right)$ at the electrode\n",
    "\n",
    "## Parameters\n",
    "\n"
   ]
  },
  {
   "cell_type": "markdown",
   "metadata": {},
   "source": [
    "|           Symbol           |                 Value (a) |\n",
    "|:--------------------------:|--------------------------:|\n",
    "|       $D_\\text{supp}$      |   $9.2\\;\\times\\;10^{-11}$ |\n",
    "|       $D_\\text{Cu}$        | $2.65\\;\\times\\;10^{-10}$  |\n",
    "| $c_{\\text{Cu}}^{\\infty}$   |                   240     |\n",
    "| $c_{\\text{sup}}^{\\infty}$  | 0.01                      |\n",
    "|       $\\delta$             |   $1\\;\\times\\;10^{-6}$    |\n",
    "|  $ \\Gamma  $                 |   $2.5\\;\\times\\;10^{-7}$  |\n",
    "| $k^+$                      |          2300             |\n",
    "| $k^-$                      |   $3.79\\;\\times\\;10^{7}$  |\n",
    "| $j_0^{\\alpha}$             |          20               |\n",
    "| $j_1^{\\alpha}$             |   $1\\;\\times\\;10^{-3}$    |\n",
    "| $\\alpha$                   |   0.4                     |\n",
    "| $n$                        |   2                       |\n",
    "| $\\Omega$                   |   $7.2\\;\\times\\;10^{-6}$  |\n",
    "| $F$                        |                           |\n",
    "| $V_0$ (initial potential)  | 0                         |\n",
    "| $V_s$ (switch)             | -0.325                    |\n",
    "| $V_mmp$ (ramp rate)        | 0.01                      |\n",
    "| Final time $t_f$           | 65                        |"
   ]
  }
 ],
 "metadata": {
  "kernelspec": {
   "display_name": "Python 3",
   "language": "python",
   "name": "python3"
  },
  "language_info": {
   "codemirror_mode": {
    "name": "ipython",
    "version": 3
   },
   "file_extension": ".py",
   "mimetype": "text/x-python",
   "name": "python",
   "nbconvert_exporter": "python",
   "pygments_lexer": "ipython3",
   "version": "3.6.3"
  }
 },
 "nbformat": 4,
 "nbformat_minor": 2
}
